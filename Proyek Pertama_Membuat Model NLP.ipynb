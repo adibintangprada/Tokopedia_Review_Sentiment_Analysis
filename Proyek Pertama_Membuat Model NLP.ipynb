{
 "cells": [
  {
   "cell_type": "markdown",
   "metadata": {},
   "source": [
    "# Belajar Pengembangan Machine Learning - Proyek Pertama_Membuat Model NLP"
   ]
  },
  {
   "cell_type": "markdown",
   "metadata": {},
   "source": [
    "## Data Diri\n",
    "\n",
    "Nama : Adi Bintang Pradana <br>\n",
    "Alamat : Jl. Budi Mulia No. 1, Jakarta <br>\n",
    "No. HP : 087784537428 <br>\n",
    "Email : adibintangprada@gmail.com"
   ]
  },
  {
   "cell_type": "markdown",
   "metadata": {},
   "source": [
    "## Import Library"
   ]
  },
  {
   "cell_type": "code",
   "execution_count": 1,
   "metadata": {},
   "outputs": [],
   "source": [
    "import pandas as pd"
   ]
  },
  {
   "cell_type": "markdown",
   "metadata": {},
   "source": [
    "## Load Dataset"
   ]
  },
  {
   "cell_type": "code",
   "execution_count": 2,
   "metadata": {},
   "outputs": [
    {
     "data": {
      "text/html": [
       "<div>\n",
       "<style scoped>\n",
       "    .dataframe tbody tr th:only-of-type {\n",
       "        vertical-align: middle;\n",
       "    }\n",
       "\n",
       "    .dataframe tbody tr th {\n",
       "        vertical-align: top;\n",
       "    }\n",
       "\n",
       "    .dataframe thead th {\n",
       "        text-align: right;\n",
       "    }\n",
       "</style>\n",
       "<table border=\"1\" class=\"dataframe\">\n",
       "  <thead>\n",
       "    <tr style=\"text-align: right;\">\n",
       "      <th></th>\n",
       "      <th>Review</th>\n",
       "      <th>Rating</th>\n",
       "      <th>Sentiment</th>\n",
       "    </tr>\n",
       "  </thead>\n",
       "  <tbody>\n",
       "    <tr>\n",
       "      <th>0</th>\n",
       "      <td>enak kuacinya</td>\n",
       "      <td>5</td>\n",
       "      <td>positive</td>\n",
       "    </tr>\n",
       "    <tr>\n",
       "      <th>1</th>\n",
       "      <td>pengiriman cepat packing bagus sesuai pesanan ...</td>\n",
       "      <td>5</td>\n",
       "      <td>positive</td>\n",
       "    </tr>\n",
       "    <tr>\n",
       "      <th>2</th>\n",
       "      <td>pengemasan luar biasa baik untuk rasa menurut ...</td>\n",
       "      <td>4</td>\n",
       "      <td>negative</td>\n",
       "    </tr>\n",
       "    <tr>\n",
       "      <th>3</th>\n",
       "      <td>terimakasih min</td>\n",
       "      <td>5</td>\n",
       "      <td>neutral</td>\n",
       "    </tr>\n",
       "    <tr>\n",
       "      <th>4</th>\n",
       "      <td>udah order untuk kesekian kali jos</td>\n",
       "      <td>5</td>\n",
       "      <td>neutral</td>\n",
       "    </tr>\n",
       "  </tbody>\n",
       "</table>\n",
       "</div>"
      ],
      "text/plain": [
       "                                              Review  Rating Sentiment\n",
       "0                                      enak kuacinya       5  positive\n",
       "1  pengiriman cepat packing bagus sesuai pesanan ...       5  positive\n",
       "2  pengemasan luar biasa baik untuk rasa menurut ...       4  negative\n",
       "3                                    terimakasih min       5   neutral\n",
       "4                 udah order untuk kesekian kali jos       5   neutral"
      ]
     },
     "execution_count": 2,
     "metadata": {},
     "output_type": "execute_result"
    }
   ],
   "source": [
    "df = pd.read_csv('dataset_review_tokped_labelled.csv')\n",
    "df.head()"
   ]
  },
  {
   "cell_type": "markdown",
   "metadata": {},
   "source": [
    "## Data Cleaning and Preprocessing"
   ]
  },
  {
   "cell_type": "code",
   "execution_count": 3,
   "metadata": {},
   "outputs": [],
   "source": [
    "df = df.drop(columns=['Rating'])"
   ]
  },
  {
   "cell_type": "code",
   "execution_count": 4,
   "metadata": {},
   "outputs": [
    {
     "data": {
      "text/html": [
       "<div>\n",
       "<style scoped>\n",
       "    .dataframe tbody tr th:only-of-type {\n",
       "        vertical-align: middle;\n",
       "    }\n",
       "\n",
       "    .dataframe tbody tr th {\n",
       "        vertical-align: top;\n",
       "    }\n",
       "\n",
       "    .dataframe thead th {\n",
       "        text-align: right;\n",
       "    }\n",
       "</style>\n",
       "<table border=\"1\" class=\"dataframe\">\n",
       "  <thead>\n",
       "    <tr style=\"text-align: right;\">\n",
       "      <th></th>\n",
       "      <th>Review</th>\n",
       "      <th>Sentiment</th>\n",
       "    </tr>\n",
       "  </thead>\n",
       "  <tbody>\n",
       "    <tr>\n",
       "      <th>0</th>\n",
       "      <td>enak kuacinya</td>\n",
       "      <td>positive</td>\n",
       "    </tr>\n",
       "    <tr>\n",
       "      <th>1</th>\n",
       "      <td>pengiriman cepat packing bagus sesuai pesanan ...</td>\n",
       "      <td>positive</td>\n",
       "    </tr>\n",
       "    <tr>\n",
       "      <th>2</th>\n",
       "      <td>pengemasan luar biasa baik untuk rasa menurut ...</td>\n",
       "      <td>negative</td>\n",
       "    </tr>\n",
       "    <tr>\n",
       "      <th>3</th>\n",
       "      <td>terimakasih min</td>\n",
       "      <td>neutral</td>\n",
       "    </tr>\n",
       "    <tr>\n",
       "      <th>4</th>\n",
       "      <td>udah order untuk kesekian kali jos</td>\n",
       "      <td>neutral</td>\n",
       "    </tr>\n",
       "    <tr>\n",
       "      <th>...</th>\n",
       "      <td>...</td>\n",
       "      <td>...</td>\n",
       "    </tr>\n",
       "    <tr>\n",
       "      <th>4055</th>\n",
       "      <td>seller sangat responsif rasa belum dicoba kare...</td>\n",
       "      <td>neutral</td>\n",
       "    </tr>\n",
       "    <tr>\n",
       "      <th>4056</th>\n",
       "      <td>imut2 banget packing aman</td>\n",
       "      <td>positive</td>\n",
       "    </tr>\n",
       "    <tr>\n",
       "      <th>4057</th>\n",
       "      <td>good product trusted seller</td>\n",
       "      <td>positive</td>\n",
       "    </tr>\n",
       "    <tr>\n",
       "      <th>4058</th>\n",
       "      <td>sudah beli yg ke 3</td>\n",
       "      <td>neutral</td>\n",
       "    </tr>\n",
       "    <tr>\n",
       "      <th>4059</th>\n",
       "      <td>byk campurannya</td>\n",
       "      <td>neutral</td>\n",
       "    </tr>\n",
       "  </tbody>\n",
       "</table>\n",
       "<p>4060 rows × 2 columns</p>\n",
       "</div>"
      ],
      "text/plain": [
       "                                                 Review Sentiment\n",
       "0                                         enak kuacinya  positive\n",
       "1     pengiriman cepat packing bagus sesuai pesanan ...  positive\n",
       "2     pengemasan luar biasa baik untuk rasa menurut ...  negative\n",
       "3                                       terimakasih min   neutral\n",
       "4                    udah order untuk kesekian kali jos   neutral\n",
       "...                                                 ...       ...\n",
       "4055  seller sangat responsif rasa belum dicoba kare...   neutral\n",
       "4056                          imut2 banget packing aman  positive\n",
       "4057                        good product trusted seller  positive\n",
       "4058                                 sudah beli yg ke 3   neutral\n",
       "4059                                    byk campurannya   neutral\n",
       "\n",
       "[4060 rows x 2 columns]"
      ]
     },
     "execution_count": 4,
     "metadata": {},
     "output_type": "execute_result"
    }
   ],
   "source": [
    "df"
   ]
  },
  {
   "cell_type": "code",
   "execution_count": 5,
   "metadata": {},
   "outputs": [
    {
     "data": {
      "text/html": [
       "<div>\n",
       "<style scoped>\n",
       "    .dataframe tbody tr th:only-of-type {\n",
       "        vertical-align: middle;\n",
       "    }\n",
       "\n",
       "    .dataframe tbody tr th {\n",
       "        vertical-align: top;\n",
       "    }\n",
       "\n",
       "    .dataframe thead th {\n",
       "        text-align: right;\n",
       "    }\n",
       "</style>\n",
       "<table border=\"1\" class=\"dataframe\">\n",
       "  <thead>\n",
       "    <tr style=\"text-align: right;\">\n",
       "      <th></th>\n",
       "      <th>Review</th>\n",
       "      <th>negative</th>\n",
       "      <th>neutral</th>\n",
       "      <th>positive</th>\n",
       "    </tr>\n",
       "  </thead>\n",
       "  <tbody>\n",
       "    <tr>\n",
       "      <th>0</th>\n",
       "      <td>enak kuacinya</td>\n",
       "      <td>0</td>\n",
       "      <td>0</td>\n",
       "      <td>1</td>\n",
       "    </tr>\n",
       "    <tr>\n",
       "      <th>1</th>\n",
       "      <td>pengiriman cepat packing bagus sesuai pesanan ...</td>\n",
       "      <td>0</td>\n",
       "      <td>0</td>\n",
       "      <td>1</td>\n",
       "    </tr>\n",
       "    <tr>\n",
       "      <th>2</th>\n",
       "      <td>pengemasan luar biasa baik untuk rasa menurut ...</td>\n",
       "      <td>1</td>\n",
       "      <td>0</td>\n",
       "      <td>0</td>\n",
       "    </tr>\n",
       "    <tr>\n",
       "      <th>3</th>\n",
       "      <td>terimakasih min</td>\n",
       "      <td>0</td>\n",
       "      <td>1</td>\n",
       "      <td>0</td>\n",
       "    </tr>\n",
       "    <tr>\n",
       "      <th>4</th>\n",
       "      <td>udah order untuk kesekian kali jos</td>\n",
       "      <td>0</td>\n",
       "      <td>1</td>\n",
       "      <td>0</td>\n",
       "    </tr>\n",
       "    <tr>\n",
       "      <th>...</th>\n",
       "      <td>...</td>\n",
       "      <td>...</td>\n",
       "      <td>...</td>\n",
       "      <td>...</td>\n",
       "    </tr>\n",
       "    <tr>\n",
       "      <th>4055</th>\n",
       "      <td>seller sangat responsif rasa belum dicoba kare...</td>\n",
       "      <td>0</td>\n",
       "      <td>1</td>\n",
       "      <td>0</td>\n",
       "    </tr>\n",
       "    <tr>\n",
       "      <th>4056</th>\n",
       "      <td>imut2 banget packing aman</td>\n",
       "      <td>0</td>\n",
       "      <td>0</td>\n",
       "      <td>1</td>\n",
       "    </tr>\n",
       "    <tr>\n",
       "      <th>4057</th>\n",
       "      <td>good product trusted seller</td>\n",
       "      <td>0</td>\n",
       "      <td>0</td>\n",
       "      <td>1</td>\n",
       "    </tr>\n",
       "    <tr>\n",
       "      <th>4058</th>\n",
       "      <td>sudah beli yg ke 3</td>\n",
       "      <td>0</td>\n",
       "      <td>1</td>\n",
       "      <td>0</td>\n",
       "    </tr>\n",
       "    <tr>\n",
       "      <th>4059</th>\n",
       "      <td>byk campurannya</td>\n",
       "      <td>0</td>\n",
       "      <td>1</td>\n",
       "      <td>0</td>\n",
       "    </tr>\n",
       "  </tbody>\n",
       "</table>\n",
       "<p>4060 rows × 4 columns</p>\n",
       "</div>"
      ],
      "text/plain": [
       "                                                 Review  negative  neutral  \\\n",
       "0                                         enak kuacinya         0        0   \n",
       "1     pengiriman cepat packing bagus sesuai pesanan ...         0        0   \n",
       "2     pengemasan luar biasa baik untuk rasa menurut ...         1        0   \n",
       "3                                       terimakasih min         0        1   \n",
       "4                    udah order untuk kesekian kali jos         0        1   \n",
       "...                                                 ...       ...      ...   \n",
       "4055  seller sangat responsif rasa belum dicoba kare...         0        1   \n",
       "4056                          imut2 banget packing aman         0        0   \n",
       "4057                        good product trusted seller         0        0   \n",
       "4058                                 sudah beli yg ke 3         0        1   \n",
       "4059                                    byk campurannya         0        1   \n",
       "\n",
       "      positive  \n",
       "0            1  \n",
       "1            1  \n",
       "2            0  \n",
       "3            0  \n",
       "4            0  \n",
       "...        ...  \n",
       "4055         0  \n",
       "4056         1  \n",
       "4057         1  \n",
       "4058         0  \n",
       "4059         0  \n",
       "\n",
       "[4060 rows x 4 columns]"
      ]
     },
     "execution_count": 5,
     "metadata": {},
     "output_type": "execute_result"
    }
   ],
   "source": [
    "label = pd.get_dummies(df.Sentiment)\n",
    "df_baru = pd.concat([df, label], axis=1)\n",
    "df_baru = df_baru.drop(columns='Sentiment')\n",
    "df_baru"
   ]
  },
  {
   "cell_type": "markdown",
   "metadata": {},
   "source": [
    "## Modelling - LSTM"
   ]
  },
  {
   "cell_type": "markdown",
   "metadata": {},
   "source": [
    "### Train Test Split"
   ]
  },
  {
   "cell_type": "code",
   "execution_count": 6,
   "metadata": {},
   "outputs": [],
   "source": [
    "x = df_baru['Review'].values\n",
    "y = df_baru[['negative', 'neutral', 'positive']].values"
   ]
  },
  {
   "cell_type": "code",
   "execution_count": 7,
   "metadata": {},
   "outputs": [],
   "source": [
    "from sklearn.model_selection import train_test_split\n",
    "x_train, x_test, y_train, y_test = train_test_split(x, y, test_size=0.2)"
   ]
  },
  {
   "cell_type": "markdown",
   "metadata": {},
   "source": [
    "### Build Model"
   ]
  },
  {
   "cell_type": "code",
   "execution_count": 8,
   "metadata": {},
   "outputs": [],
   "source": [
    "from tensorflow.keras.preprocessing.text import Tokenizer\n",
    "from tensorflow.keras.preprocessing.sequence import pad_sequences\n",
    " \n",
    "tokenizer = Tokenizer(num_words=5000, oov_token='x')\n",
    "tokenizer.fit_on_texts(x_train) \n",
    "tokenizer.fit_on_texts(x_test)\n",
    " \n",
    "sequence_train = tokenizer.texts_to_sequences(x_train)\n",
    "sequence_test = tokenizer.texts_to_sequences(x_test)\n",
    " \n",
    "padded_train = pad_sequences(sequence_train) \n",
    "padded_test = pad_sequences(sequence_test)"
   ]
  },
  {
   "cell_type": "code",
   "execution_count": 13,
   "metadata": {},
   "outputs": [],
   "source": [
    "import tensorflow as tf\n",
    "model = tf.keras.Sequential([\n",
    "    tf.keras.layers.Embedding(input_dim=5000, output_dim=16),\n",
    "    tf.keras.layers.LSTM(128),\n",
    "    tf.keras.layers.Dense(128, activation='relu'),\n",
    "    tf.keras.layers.Dense(64, activation='relu'),\n",
    "    tf.keras.layers.Dense(3, activation='softmax')\n",
    "])\n",
    "model.compile(loss='categorical_crossentropy',optimizer='adam',metrics=['accuracy'])"
   ]
  },
  {
   "cell_type": "code",
   "execution_count": 14,
   "metadata": {},
   "outputs": [
    {
     "name": "stdout",
     "output_type": "stream",
     "text": [
      "Epoch 1/30\n",
      "102/102 - 13s - loss: 0.7976 - accuracy: 0.7124 - val_loss: 0.6812 - val_accuracy: 0.7192\n",
      "Epoch 2/30\n",
      "102/102 - 12s - loss: 0.5249 - accuracy: 0.7891 - val_loss: 0.6226 - val_accuracy: 0.7525\n",
      "Epoch 3/30\n",
      "102/102 - 12s - loss: 0.3793 - accuracy: 0.8467 - val_loss: 0.6097 - val_accuracy: 0.7648\n",
      "Epoch 4/30\n",
      "102/102 - 12s - loss: 0.2866 - accuracy: 0.8950 - val_loss: 0.6851 - val_accuracy: 0.7537\n",
      "Epoch 5/30\n",
      "102/102 - 11s - loss: 0.2210 - accuracy: 0.9233 - val_loss: 0.7850 - val_accuracy: 0.7635\n",
      "Epoch 6/30\n",
      "102/102 - 12s - loss: 0.1616 - accuracy: 0.9452 - val_loss: 0.9058 - val_accuracy: 0.7266\n",
      "Epoch 7/30\n",
      "102/102 - 12s - loss: 0.1255 - accuracy: 0.9643 - val_loss: 1.0005 - val_accuracy: 0.7722\n",
      "Epoch 8/30\n",
      "102/102 - 13s - loss: 0.0968 - accuracy: 0.9701 - val_loss: 1.1335 - val_accuracy: 0.7537\n",
      "Epoch 9/30\n",
      "102/102 - 14s - loss: 0.0849 - accuracy: 0.9732 - val_loss: 0.9634 - val_accuracy: 0.7438\n",
      "Epoch 10/30\n",
      "102/102 - 12s - loss: 0.0790 - accuracy: 0.9757 - val_loss: 1.0762 - val_accuracy: 0.7709\n",
      "Epoch 11/30\n",
      "102/102 - 12s - loss: 0.0548 - accuracy: 0.9843 - val_loss: 1.1201 - val_accuracy: 0.7574\n",
      "Epoch 12/30\n",
      "102/102 - 11s - loss: 0.0513 - accuracy: 0.9849 - val_loss: 1.3199 - val_accuracy: 0.7734\n",
      "Epoch 13/30\n",
      "102/102 - 12s - loss: 0.0569 - accuracy: 0.9818 - val_loss: 1.3704 - val_accuracy: 0.7586\n",
      "Epoch 14/30\n",
      "102/102 - 12s - loss: 0.0550 - accuracy: 0.9821 - val_loss: 1.2763 - val_accuracy: 0.7660\n",
      "Epoch 15/30\n",
      "102/102 - 12s - loss: 0.0391 - accuracy: 0.9892 - val_loss: 1.3120 - val_accuracy: 0.7451\n",
      "Epoch 16/30\n",
      "102/102 - 13s - loss: 0.0341 - accuracy: 0.9901 - val_loss: 1.4748 - val_accuracy: 0.7660\n",
      "Epoch 17/30\n",
      "102/102 - 12s - loss: 0.0648 - accuracy: 0.9815 - val_loss: 1.3946 - val_accuracy: 0.7574\n",
      "Epoch 18/30\n",
      "102/102 - 11s - loss: 0.0427 - accuracy: 0.9889 - val_loss: 1.1599 - val_accuracy: 0.7722\n",
      "Epoch 19/30\n",
      "102/102 - 12s - loss: 0.0383 - accuracy: 0.9889 - val_loss: 1.4358 - val_accuracy: 0.7574\n",
      "Epoch 20/30\n",
      "102/102 - 11s - loss: 0.0303 - accuracy: 0.9914 - val_loss: 1.5180 - val_accuracy: 0.7562\n",
      "Epoch 21/30\n",
      "102/102 - 11s - loss: 0.0294 - accuracy: 0.9914 - val_loss: 1.5152 - val_accuracy: 0.7537\n",
      "Epoch 22/30\n",
      "102/102 - 11s - loss: 0.0291 - accuracy: 0.9905 - val_loss: 1.5426 - val_accuracy: 0.7562\n",
      "Epoch 23/30\n",
      "102/102 - 11s - loss: 0.0254 - accuracy: 0.9923 - val_loss: 1.6685 - val_accuracy: 0.7586\n",
      "Epoch 24/30\n",
      "102/102 - 11s - loss: 0.0238 - accuracy: 0.9929 - val_loss: 1.7522 - val_accuracy: 0.7611\n",
      "Epoch 25/30\n",
      "102/102 - 11s - loss: 0.0248 - accuracy: 0.9914 - val_loss: 1.8045 - val_accuracy: 0.7525\n",
      "Epoch 26/30\n",
      "102/102 - 11s - loss: 0.0232 - accuracy: 0.9920 - val_loss: 1.9348 - val_accuracy: 0.7389\n",
      "Epoch 27/30\n",
      "102/102 - 12s - loss: 0.0584 - accuracy: 0.9825 - val_loss: 1.7914 - val_accuracy: 0.7254\n",
      "Epoch 28/30\n",
      "102/102 - 11s - loss: 0.0504 - accuracy: 0.9825 - val_loss: 1.6544 - val_accuracy: 0.7340\n",
      "Epoch 29/30\n",
      "102/102 - 13s - loss: 0.0299 - accuracy: 0.9898 - val_loss: 1.8094 - val_accuracy: 0.7438\n",
      "Epoch 30/30\n",
      "102/102 - 11s - loss: 0.0231 - accuracy: 0.9920 - val_loss: 1.7624 - val_accuracy: 0.7500\n"
     ]
    }
   ],
   "source": [
    "history = model.fit(padded_train, y_train, epochs=30, \n",
    "                    validation_data=(padded_test, y_test), verbose=2)"
   ]
  },
  {
   "cell_type": "markdown",
   "metadata": {},
   "source": [
    "### Model Visualization"
   ]
  },
  {
   "cell_type": "code",
   "execution_count": 15,
   "metadata": {},
   "outputs": [],
   "source": [
    "import matplotlib.pyplot as plt"
   ]
  },
  {
   "cell_type": "markdown",
   "metadata": {},
   "source": [
    "#### Model Loss"
   ]
  },
  {
   "cell_type": "code",
   "execution_count": 20,
   "metadata": {},
   "outputs": [
    {
     "data": {
      "image/png": "[encoded data removed]",
      "text/plain": [
       "<Figure size 432x288 with 1 Axes>"
      ]
     },
     "metadata": {
      "needs_background": "light"
     },
     "output_type": "display_data"
    }
   ],
   "source": [
    "plt.plot(history.history['loss'])\n",
    "plt.title('Model Loss')\n",
    "plt.ylabel('Loss')\n",
    "plt.xlabel('Epoch')\n",
    "plt.legend(['Train'], loc='upper right')\n",
    "plt.show()"
   ]
  },
  {
   "cell_type": "markdown",
   "metadata": {},
   "source": [
    "#### Model Accuracy"
   ]
  },
  {
   "cell_type": "code",
   "execution_count": 21,
   "metadata": {},
   "outputs": [
    {
     "data": {
      "image/png": "[encoded data removed]",
      "text/plain": [
       "<Figure size 432x288 with 1 Axes>"
      ]
     },
     "metadata": {
      "needs_background": "light"
     },
     "output_type": "display_data"
    }
   ],
   "source": [
    "plt.plot(history.history['accuracy'])\n",
    "plt.title('Model Accuracy')\n",
    "plt.ylabel('Accuracy')\n",
    "plt.xlabel('Epoch')\n",
    "plt.legend(['Train'], loc='lower right')\n",
    "plt.show()"
   ]
  },
  {
   "cell_type": "code",
   "execution_count": null,
   "metadata": {},
   "outputs": [],
   "source": []
  }
 ],
 "metadata": {
  "kernelspec": {
   "display_name": "Python 3",
   "language": "python",
   "name": "python3"
  },
  "language_info": {
   "codemirror_mode": {
    "name": "ipython",
    "version": 3
   },
   "file_extension": ".py",
   "mimetype": "text/x-python",
   "name": "python",
   "nbconvert_exporter": "python",
   "pygments_lexer": "ipython3",
   "version": "3.8.5"
  }
 },
 "nbformat": 4,
 "nbformat_minor": 4
}
